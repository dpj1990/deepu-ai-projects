{
 "cells": [
  {
   "cell_type": "markdown",
   "id": "e409d9ea",
   "metadata": {},
   "source": [
    "# NumPy Basics"
   ]
  },
  {
   "cell_type": "code",
   "execution_count": null,
   "id": "e8ebf7c7",
   "metadata": {},
   "outputs": [],
   "source": [
    "import numpy as np"
   ]
  },
  {
   "cell_type": "code",
   "execution_count": null,
   "id": "7ca08dd7",
   "metadata": {},
   "outputs": [],
   "source": [
    "arr = np.array([1, 2, 3, 4, 5])"
   ]
  },
  {
   "cell_type": "code",
   "execution_count": null,
   "id": "6ef5cf58",
   "metadata": {},
   "outputs": [],
   "source": [
    "print('Array:', arr)"
   ]
  },
  {
   "cell_type": "code",
   "execution_count": null,
   "id": "8898fe02",
   "metadata": {},
   "outputs": [],
   "source": [
    "print('Shape:', arr.shape)"
   ]
  }
 ],
 "metadata": {},
 "nbformat": 4,
 "nbformat_minor": 5
}
